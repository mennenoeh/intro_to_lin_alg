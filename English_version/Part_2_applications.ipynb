{
 "cells": [
  {
   "cell_type": "markdown",
   "id": "9ed58e21",
   "metadata": {},
   "source": [
    "# Linear algebra for data science and absolute beginners (II/II)\n",
    "![beginner](https://upload.wikimedia.org/wikipedia/commons/f/f7/ABSOLUTE_BEGINNER.jpg \"By Mika Väisänen, CC BY-SA 3.0 en, https://commons.wikimedia.org/w/index.php?curid=38500036\")\n",
    "\n"
   ]
  },
  {
   "cell_type": "code",
   "execution_count": 2,
   "id": "8fe2915c",
   "metadata": {},
   "outputs": [],
   "source": [
    "import numpy as np"
   ]
  },
  {
   "cell_type": "markdown",
   "id": "ea11df7d",
   "metadata": {},
   "source": [
    "\n",
    "\n",
    "# Understand matrix multiplication better\n",
    "\n",
    "Hi and nice to have you back.\n",
    "\n",
    "After our introductory example, let's take a look at exactly how matrix multiplication works (part 1) and what you can do with it (part 2). To do this, let's first try to get some intuition. Imagine you have two matrices $A$ and $B$: \n",
    "\n",
    "\n"
   ]
  },
  {
   "cell_type": "code",
   "execution_count": 3,
   "id": "b23d6666",
   "metadata": {},
   "outputs": [
    {
     "name": "stdout",
     "output_type": "stream",
     "text": [
      "[[ 6  8]\n",
      " [10 12]]\n"
     ]
    }
   ],
   "source": [
    "\n",
    "A = np.array([[1,2],\n",
    "              [3,4]])\n",
    "\n",
    "B = np.array([[5,6],\n",
    "              [7,8]])\n",
    "\n",
    "print(A+B)\n"
   ]
  },
  {
   "cell_type": "markdown",
   "id": "8052e73e",
   "metadata": {},
   "source": [
    "What happens if we add or subtract these two matrices?"
   ]
  },
  {
   "cell_type": "code",
   "execution_count": 4,
   "id": "06a96df0",
   "metadata": {},
   "outputs": [
    {
     "name": "stdout",
     "output_type": "stream",
     "text": [
      "A+B\n",
      "[[ 6  8]\n",
      " [10 12]]\n",
      "A-B\n",
      "[[-4 -4]\n",
      " [-4 -4]]\n"
     ]
    }
   ],
   "source": [
    "\n",
    "print(\"A+B\")\n",
    "print(A+B)\n",
    "print(\"A-B\")\n",
    "print(A-B)\n"
   ]
  },
  {
   "cell_type": "markdown",
   "id": "8b38c255",
   "metadata": {},
   "source": [
    "You can see that the sum of the two matrices $A$ and $B$ is the sum of the individual elements (or the difference). This is not particularly exciting. What happens if we multiply the two matrices together? Now the only question is: In which order? Never mind, let's take both!"
   ]
  },
  {
   "cell_type": "code",
   "execution_count": 5,
   "id": "de873d05",
   "metadata": {},
   "outputs": [
    {
     "name": "stdout",
     "output_type": "stream",
     "text": [
      "A*B\n",
      "[[19 22]\n",
      " [43 50]]\n",
      "B*A\n",
      "[[23 34]\n",
      " [31 46]]\n"
     ]
    }
   ],
   "source": [
    "\n",
    "print(\"A*B\")\n",
    "print(A@B)\n",
    "print(\"B*A\")\n",
    "print(B@A)\n"
   ]
  },
  {
   "cell_type": "markdown",
   "id": "550cb540",
   "metadata": {},
   "source": [
    "First observation: The order does matter! Matrix multiplication is not commutative. This means that $A \\cdot B \\neq B \\cdot A$. \n",
    "\n",
    "Now let's take a few other matrix sizes and see what happens. \n"
   ]
  },
  {
   "cell_type": "code",
   "execution_count": 6,
   "id": "2c87d105",
   "metadata": {},
   "outputs": [],
   "source": [
    "\n",
    "A = np.array([[6,3],\n",
    "              [2,2],\n",
    "              [1,6],\n",
    "              [8,6]])\n",
    "\n",
    "B = np.array([[8,0,0],\n",
    "              [9,5,0]])\n"
   ]
  },
  {
   "cell_type": "code",
   "execution_count": 7,
   "id": "c2515800",
   "metadata": {},
   "outputs": [
    {
     "name": "stdout",
     "output_type": "stream",
     "text": [
      "A*B\n",
      "[[ 75  15   0]\n",
      " [ 34  10   0]\n",
      " [ 62  30   0]\n",
      " [118  30   0]]\n"
     ]
    }
   ],
   "source": [
    "\n",
    "print(\"A*B\")\n",
    "print(A@B)\n"
   ]
  },
  {
   "cell_type": "markdown",
   "id": "21ff4b98",
   "metadata": {},
   "source": [
    "\n",
    "    \n",
    "\n",
    "Very nice, that seems to work. But what happens if we swap the matrices?\n",
    "\n"
   ]
  },
  {
   "cell_type": "code",
   "execution_count": 8,
   "id": "4be42f8b",
   "metadata": {},
   "outputs": [
    {
     "name": "stdout",
     "output_type": "stream",
     "text": [
      "B*A\n"
     ]
    },
    {
     "ename": "ValueError",
     "evalue": "matmul: Input operand 1 has a mismatch in its core dimension 0, with gufunc signature (n?,k),(k,m?)->(n?,m?) (size 4 is different from 3)",
     "output_type": "error",
     "traceback": [
      "\u001b[1;31m---------------------------------------------------------------------------\u001b[0m",
      "\u001b[1;31mValueError\u001b[0m                                Traceback (most recent call last)",
      "Cell \u001b[1;32mIn[8], line 2\u001b[0m\n\u001b[0;32m      1\u001b[0m \u001b[38;5;28mprint\u001b[39m(\u001b[38;5;124m\"\u001b[39m\u001b[38;5;124mB*A\u001b[39m\u001b[38;5;124m\"\u001b[39m)\n\u001b[1;32m----> 2\u001b[0m \u001b[38;5;28mprint\u001b[39m(\u001b[43mB\u001b[49m\u001b[38;5;129;43m@A\u001b[39;49m)\n",
      "\u001b[1;31mValueError\u001b[0m: matmul: Input operand 1 has a mismatch in its core dimension 0, with gufunc signature (n?,k),(k,m?)->(n?,m?) (size 4 is different from 3)"
     ]
    }
   ],
   "source": [
    "\n",
    "print(\"B*A\")\n",
    "print(B@A)\n"
   ]
  },
  {
   "cell_type": "markdown",
   "id": "8cedf9b1",
   "metadata": {},
   "source": [
    "\n",
    "\n",
    "Now we get an error message! This means that the matrix multiplication cannot be carried out in this way. The error message says: \"size 4 is different from 3\". This means that the number of columns in the first matrix must be equal to the number of rows in the second matrix. But why? Let's take a closer look. The following graphic shows the matrix multiplication of $A$ and $B$:\n",
    "\n",
    "![Matrix multiplication](https://upload.wikimedia.org/wikipedia/commons/thumb/e/eb/Matrix_multiplication_diagram_2.svg/1920px-Matrix_multiplication_diagram_2.svg.png \"By Inductiveload - Own work, CC BY-SA 3.0, https://commons.wikimedia.org/w/index.php?curid=1119724\")\n",
    "\n",
    "If you arrange the matrices $A$ and $B$ as shown in the graphic above, it becomes clear that the number of columns in the first matrix must be equal to the number of rows in the second matrix. To determine the value in the red circle, for example, I have to calculate the following:\n",
    "\n",
    "$(a_{1,1}*b_{1,2})+ (a_{1,2}*b_{2,2})$\n",
    "\n",
    "To do this, the columns of $A$ and the rows of $B$ must be the same. The rows of $A$ and the columns of $B$ are different. These can be of any length. Therefore, the matrix multiplication also has the form $m \\times n$ and $n \\times p$. The result is then a matrix of size $m \\times p$. So $n$ no longer appears in the result matrix. This will be very useful for us when we deal with dimension reduction or language models such as GPT, for example.\n",
    "\n",
    "So far so good! Now let's take a look at a few special cases of matrices. First the unit matrix, also called identity $I$. This has only ones on the main diagonal and otherwise only zeros. Now we multiply the matrix $A$ by the unit matrix $I$ to see what happens to $A$.\n",
    "\n",
    "\n"
   ]
  },
  {
   "cell_type": "code",
   "execution_count": 9,
   "id": "2bb5bcda",
   "metadata": {},
   "outputs": [
    {
     "name": "stdout",
     "output_type": "stream",
     "text": [
      "A*I\n",
      "[[1 2 3]\n",
      " [4 5 6]\n",
      " [7 8 9]]\n",
      "I*A\n",
      "[[1 2 3]\n",
      " [4 5 6]\n",
      " [7 8 9]]\n"
     ]
    }
   ],
   "source": [
    "\n",
    "A = np.array([[1,2,3],\n",
    "              [4,5,6],\n",
    "              [7,8,9]])\n",
    "\n",
    "I = np.array([[1,0,0],\n",
    "              [0,1,0],\n",
    "              [0,0,1]])\n",
    "\n",
    "# Shortcut: I = np.eye(3)\n",
    "\n",
    "print(\"A*I\")\n",
    "print(A@I)\n",
    "print(\"I*A\")\n",
    "print(I@A)\n"
   ]
  },
  {
   "cell_type": "markdown",
   "id": "07f1d23c",
   "metadata": {},
   "source": [
    "\n",
    "    \n",
    "\n",
    "Interesting! The matrix $A$ remains the same. This means that the unit matrix $I$ is the so-called \"neutral element\" of the matrix multiplication. This is similar to the number 1 in the multiplication of \"numbers\". But why is this the case?\n",
    "\n",
    "Let's take a look at the first digit in the result matrix. This is the sum of the products of the first row of $A$ with the first column of $I$. This means that we multiply the first row of $A$ by the first column of $I$. In this case, that is:\n",
    "\n",
    "Digit \"1\": $1*1 + 2*0 + 3*0 = 1$\n",
    "\n",
    "Digit \"2\": $1*0 + 2*1 + 3*0 = 2$\n",
    "\n",
    "Digit \"4\": $4*1 + 5*0 + 6*0 = 4$\n",
    "\n",
    "etc.\n",
    "\n",
    "What happens now if we manipulate $I$ a little?\n",
    "\n",
    "\n"
   ]
  },
  {
   "cell_type": "code",
   "execution_count": 10,
   "id": "bf76fc79",
   "metadata": {},
   "outputs": [
    {
     "name": "stdout",
     "output_type": "stream",
     "text": [
      "A*B\n",
      "[[2 1 3]\n",
      " [5 4 6]\n",
      " [8 7 9]]\n"
     ]
    }
   ],
   "source": [
    "\n",
    "A = np.array([[1,2,3],\n",
    "              [4,5,6],\n",
    "              [7,8,9]])\n",
    "\n",
    "B = np.array([[0,1,0],\n",
    "              [1,0,0],\n",
    "              [0,0,1]])\n",
    "\n",
    "print(\"A*B\")\n",
    "print(A@B)\n"
   ]
  },
  {
   "cell_type": "markdown",
   "id": "bf4b7c35",
   "metadata": {},
   "source": [
    "\n",
    "\n",
    "Now the first two columns are swapped! You can also read the matrix $B$ like this: \n",
    "\n",
    "If there is a \"1\" in the __first__ column in the __second__ place, this means: \n",
    "\n",
    "\"Take the __first__ column of $A$ and write it in the __second__ column.\" \n",
    "\n",
    "If there is a \"1\" in the __second__ column in the __first__ place, this means: \n",
    "\n",
    "\"Take the __second__ column of $A$ and write it in the __first__ column.\" \n",
    "\n",
    "So I can swap columns with a matrix multiplication! But what about rows? Do you have any ideas? We can simply swap the order of the matrices and see what happens.\n",
    "\n"
   ]
  },
  {
   "cell_type": "code",
   "execution_count": 11,
   "id": "f3f19721",
   "metadata": {},
   "outputs": [
    {
     "name": "stdout",
     "output_type": "stream",
     "text": [
      "B*A\n",
      "[[4 5 6]\n",
      " [1 2 3]\n",
      " [7 8 9]]\n"
     ]
    }
   ],
   "source": [
    "print(\"B*A\")\n",
    "print(B@A)"
   ]
  },
  {
   "cell_type": "markdown",
   "id": "b6b3fc70",
   "metadata": {},
   "source": [
    "\n",
    "    \n",
    "\n",
    "Zack! And now we have swapped rows. We can now read the matrix $B$ as follows:\n",
    "\n",
    "If there is a \"1\" in the __first__ row in the __second__ place, this means: \n",
    "\n",
    "\"Take the __first__ row of $A$ and write it in the __second__ row.\" \n",
    "\n",
    "If there is a \"1\" in the __second__ line in the __first__ place, this means: \n",
    "\n",
    "\"Take the __second__ line of $A$ and write it on the __first__ line.\" \n",
    "\n",
    "Now let's continue in a different way. We now build a so-called lower triangular matrix $L$ of ones. This has only ones on the main diagonal and also below it. Everything else is zero. Let's see what happens when we multiply $A$ by $L$.\n",
    "\n",
    "\n",
    "\n"
   ]
  },
  {
   "cell_type": "code",
   "execution_count": 12,
   "id": "88533b7b",
   "metadata": {},
   "outputs": [
    {
     "name": "stdout",
     "output_type": "stream",
     "text": [
      "A*L\n",
      "[[ 6  5  3]\n",
      " [15 11  6]\n",
      " [24 17  9]]\n",
      "L*A\n",
      "[[ 1  2  3]\n",
      " [ 5  7  9]\n",
      " [12 15 18]]\n"
     ]
    }
   ],
   "source": [
    "\n",
    "L = np.array([[1,0,0],\n",
    "              [1,1,0],\n",
    "              [1,1,1]])\n",
    "\n",
    "print(\"A*L\")\n",
    "print(A@L)\n",
    "\n",
    "print(\"L*A\")\n",
    "print(L@A)"
   ]
  },
  {
   "cell_type": "code",
   "execution_count": 13,
   "id": "63992744",
   "metadata": {},
   "outputs": [],
   "source": [
    "\n",
    "# numpy as an implementation of LA\n",
    "import numpy as np\n",
    "from numpy import linalg as LA\n",
    "# pandas for comparison to LA\n",
    "import pandas as pd\n",
    "# pyplot to display graphics\n",
    "import matplotlib.pyplot as plt\n",
    "\n",
    "import sympy as sp\n",
    "from sympy import Matrix, init_printing\n",
    "init_printing()\n"
   ]
  },
  {
   "cell_type": "code",
   "execution_count": 14,
   "id": "ba3ca947",
   "metadata": {},
   "outputs": [
    {
     "data": {
      "image/png": "[encoded data removed]",
      "text/latex": [
       "$\\displaystyle 2 \\sqrt{2}$"
      ],
      "text/plain": [
       "2⋅√2"
      ]
     },
     "metadata": {},
     "output_type": "display_data"
    }
   ],
   "source": [
    "\n",
    "display(sp.sqrt(8))\n"
   ]
  },
  {
   "cell_type": "code",
   "execution_count": 15,
   "id": "7e02b541",
   "metadata": {},
   "outputs": [
    {
     "name": "stdout",
     "output_type": "stream",
     "text": [
      "[14 32]\n"
     ]
    }
   ],
   "source": [
    "A = np.array([[1,2,3],\n",
    "              [4,5,6]])\n",
    "\n",
    "V1 = np.array([1,2,3])\n",
    "\n",
    "print(A@V1)\n",
    "# print(V1@A)"
   ]
  },
  {
   "cell_type": "markdown",
   "id": "c4087068",
   "metadata": {},
   "source": [
    "\n",
    "# Ideas\n",
    "1. eigenvectors // google page rank\n",
    "2. special case identity matrix\n",
    "3. understand what a matrix does &gt; experiment with matrix\n",
    "4. permutation matrix &gt;&gt; swap rows and columns\n",
    "5. inverse matrix &gt;&gt; undo things.\n",
    "6. determinants\n",
    "8. projection matrices / REgression as matrix multiplication\n",
    "\n",
    "MAtrix multiplication: Everything is somehow connected\n",
    "\n",
    "MArkov matrix\n",
    "\n",
    "Graph theory\n",
    "\n",
    "page rank\n",
    "\n",
    "SVD\n",
    "\n",
    "PCA\n",
    "\n",
    "Sparse\n",
    "\n",
    "S LAMBDA S-1 transformation\n",
    "\n",
    "# Understand matrix multiplication better\n"
   ]
  },
  {
   "cell_type": "code",
   "execution_count": 16,
   "id": "88461550",
   "metadata": {},
   "outputs": [],
   "source": [
    "\n",
    "A = np.array([[1,2,3],\n",
    "                 [4,5,11],\n",
    "                 [7,8,12]])\n"
   ]
  },
  {
   "cell_type": "code",
   "execution_count": 17,
   "id": "b1ba5040",
   "metadata": {},
   "outputs": [],
   "source": [
    "\n",
    "I = np.array([[1,0,0],\n",
    "              [0,1,0],\n",
    "              [0,0,1]])\n"
   ]
  },
  {
   "cell_type": "code",
   "execution_count": 18,
   "id": "cf6ce6c8",
   "metadata": {},
   "outputs": [],
   "source": [
    "\n",
    "V = np.array([1,2,3])"
   ]
  },
  {
   "cell_type": "code",
   "execution_count": 19,
   "id": "96045666",
   "metadata": {},
   "outputs": [
    {
     "data": {
      "text/latex": [
       "$\\displaystyle \\left[\\begin{matrix}1.0 & 0.0 & 0.0\\\\0.0 & 1.0 & 0.0\\\\0.0 & 0.0 & 1.0\\end{matrix}\\right]$"
      ],
      "text/plain": [
       "⎡1.0  0.0  0.0⎤\n",
       "⎢             ⎥\n",
       "⎢0.0  1.0  0.0⎥\n",
       "⎢             ⎥\n",
       "⎣0.0  0.0  1.0⎦"
      ]
     },
     "metadata": {},
     "output_type": "display_data"
    }
   ],
   "source": [
    "\n",
    "# Ctrl-Z\n",
    "newI = A @ LA.inv(A)\n",
    "display(Matrix(np.round(newI, decimals=2)))\n",
    "\n",
    "# print(np.around(A @ LA.inv(A), decimals=2))\n"
   ]
  },
  {
   "cell_type": "code",
   "execution_count": 20,
   "id": "6cf01369",
   "metadata": {},
   "outputs": [
    {
     "data": {
      "text/latex": [
       "$\\displaystyle \\left[\\begin{matrix}1.0 & 0.0 & 0.0\\\\0.0 & 1.0 & 0.0\\\\0.0 & 0.0 & 1.0\\end{matrix}\\right]$"
      ],
      "text/plain": [
       "⎡1.0  0.0  0.0⎤\n",
       "⎢             ⎥\n",
       "⎢0.0  1.0  0.0⎥\n",
       "⎢             ⎥\n",
       "⎣0.0  0.0  1.0⎦"
      ]
     },
     "metadata": {},
     "output_type": "display_data"
    },
    {
     "name": "stdout",
     "output_type": "stream",
     "text": [
      "None\n"
     ]
    }
   ],
   "source": [
    "\n",
    "A_projection = A @ LA.inv(A.T @ A) @ A.T\n",
    "print(display(Matrix(np.round(A_projection))))\n"
   ]
  },
  {
   "cell_type": "code",
   "execution_count": 21,
   "id": "189b65cf",
   "metadata": {},
   "outputs": [
    {
     "data": {
      "text/plain": [
       "array([[ 1,  2,  3],\n",
       "       [ 4,  5, 11],\n",
       "       [ 7,  8, 12]])"
      ]
     },
     "execution_count": 21,
     "metadata": {},
     "output_type": "execute_result"
    }
   ],
   "source": [
    "\n",
    "I@A\n"
   ]
  },
  {
   "cell_type": "code",
   "execution_count": 22,
   "id": "e3b8e33a",
   "metadata": {},
   "outputs": [
    {
     "data": {
      "text/plain": [
       "array([[ 1,  0,  0],\n",
       "       [ 0,  5,  0],\n",
       "       [ 0,  0, 12]])"
      ]
     },
     "execution_count": 22,
     "metadata": {},
     "output_type": "execute_result"
    }
   ],
   "source": [
    "\n",
    "A*I\n"
   ]
  },
  {
   "cell_type": "code",
   "execution_count": 23,
   "id": "ea68f2bb",
   "metadata": {},
   "outputs": [
    {
     "name": "stdout",
     "output_type": "stream",
     "text": [
      "[[0 0 1]\n",
      " [1 0 0]\n",
      " [0 1 0]]\n"
     ]
    }
   ],
   "source": [
    "\n",
    "B = np.matrix([[0,0,1],\n",
    "               [1,0,0],\n",
    "               [0,1,0]])\n",
    "\n",
    "print(B)\n"
   ]
  },
  {
   "cell_type": "code",
   "execution_count": 24,
   "id": "681a6aaf",
   "metadata": {},
   "outputs": [
    {
     "data": {
      "text/plain": [
       "matrix([[ 7,  8, 12],\n",
       "        [ 1,  2,  3],\n",
       "        [ 4,  5, 11]])"
      ]
     },
     "execution_count": 24,
     "metadata": {},
     "output_type": "execute_result"
    }
   ],
   "source": [
    "\n",
    "# row swap \n",
    "# row operations = left multiplication of B with A\n",
    "# B means: write row 3 in row 1\n",
    "B*A\n"
   ]
  },
  {
   "cell_type": "code",
   "execution_count": 25,
   "id": "e39c4923",
   "metadata": {},
   "outputs": [
    {
     "data": {
      "text/plain": [
       "matrix([[ 2,  3,  1],\n",
       "        [ 5, 11,  4],\n",
       "        [ 8, 12,  7]])"
      ]
     },
     "execution_count": 25,
     "metadata": {},
     "output_type": "execute_result"
    }
   ],
   "source": [
    "\n",
    "# col swap \n",
    "# col operations = left multiplication of B with A\n",
    "# B means: write col 3 in col 1\n",
    "A*B\n"
   ]
  },
  {
   "cell_type": "code",
   "execution_count": 26,
   "id": "4f034ee4",
   "metadata": {},
   "outputs": [
    {
     "data": {
      "text/plain": [
       "array([[ 1,  0,  0],\n",
       "       [-1,  1,  0],\n",
       "       [ 0,  0,  1]])"
      ]
     },
     "execution_count": 26,
     "metadata": {},
     "output_type": "execute_result"
    }
   ],
   "source": [
    "\n",
    "# C\n",
    "C = I.copy()\n",
    "C[1,0] = -1\n",
    "C\n"
   ]
  },
  {
   "cell_type": "code",
   "execution_count": 27,
   "id": "86ba8f16",
   "metadata": {},
   "outputs": [],
   "source": [
    "\n",
    "AT = A.transpose()\n"
   ]
  },
  {
   "cell_type": "code",
   "execution_count": 28,
   "id": "baca605d",
   "metadata": {},
   "outputs": [
    {
     "data": {
      "text/plain": [
       "array([[ 1,  4,  7],\n",
       "       [ 2,  5,  8],\n",
       "       [ 3, 11, 12]])"
      ]
     },
     "execution_count": 28,
     "metadata": {},
     "output_type": "execute_result"
    }
   ],
   "source": [
    "\n",
    "AT\n"
   ]
  },
  {
   "cell_type": "code",
   "execution_count": 29,
   "id": "1951563e",
   "metadata": {},
   "outputs": [
    {
     "data": {
      "text/plain": [
       "array([[  1,   8,  21],\n",
       "       [  8,  25,  88],\n",
       "       [ 21,  88, 144]])"
      ]
     },
     "execution_count": 29,
     "metadata": {},
     "output_type": "execute_result"
    }
   ],
   "source": [
    "\n",
    "A*AT\n"
   ]
  },
  {
   "cell_type": "code",
   "execution_count": 30,
   "id": "22d23595",
   "metadata": {},
   "outputs": [
    {
     "data": {
      "text/plain": [
       "array([[  1,   8,  21],\n",
       "       [  8,  25,  88],\n",
       "       [ 21,  88, 144]])"
      ]
     },
     "execution_count": 30,
     "metadata": {},
     "output_type": "execute_result"
    }
   ],
   "source": [
    "\n",
    "AT*A\n",
    "\n",
    "\n"
   ]
  },
  {
   "cell_type": "code",
   "execution_count": 31,
   "id": "9ebf38e3",
   "metadata": {},
   "outputs": [
    {
     "ename": "NameError",
     "evalue": "name 'eigvals_dust' is not defined",
     "output_type": "error",
     "traceback": [
      "\u001b[1;31m---------------------------------------------------------------------------\u001b[0m",
      "\u001b[1;31mNameError\u001b[0m                                 Traceback (most recent call last)",
      "Cell \u001b[1;32mIn[31], line 3\u001b[0m\n\u001b[0;32m      1\u001b[0m \u001b[38;5;66;03m# SAS transformation\u001b[39;00m\n\u001b[1;32m----> 3\u001b[0m \u001b[43meigvals_dust\u001b[49m\n\u001b[0;32m      4\u001b[0m S \u001b[38;5;241m=\u001b[39m eigvectors_dust\n\u001b[0;32m      5\u001b[0m SI \u001b[38;5;241m=\u001b[39m LA\u001b[38;5;241m.\u001b[39minv(eigvectors_dust)\n",
      "\u001b[1;31mNameError\u001b[0m: name 'eigvals_dust' is not defined"
     ]
    }
   ],
   "source": [
    "\n",
    "# SAS transformation\n",
    "\n",
    "eigvals_dust\n",
    "S = eigvectors_dust\n",
    "SI = LA.inv(eigvectors_dust)\n",
    "\n",
    "I = np.array([[1,0],\n",
    "              [0,1]])\n",
    "\n",
    "LAMBDA = eigvectors_dust * I\n",
    "LAMBDA2 = LAMBDA @ LAMBDA\n",
    "\n",
    "S @ LAMBDA @ SI\n",
    "\n"
   ]
  },
  {
   "cell_type": "markdown",
   "id": "9f98f558",
   "metadata": {},
   "source": [
    "\n",
    "\n"
   ]
  },
  {
   "cell_type": "code",
   "execution_count": null,
   "id": "1d5936d2",
   "metadata": {},
   "outputs": [],
   "source": [
    "LAMBDA\n"
   ]
  },
  {
   "cell_type": "code",
   "execution_count": null,
   "id": "27b85da3",
   "metadata": {},
   "outputs": [],
   "source": [
    "%%timeit\n",
    "S @ LAMBDA2 @ SI"
   ]
  },
  {
   "cell_type": "code",
   "execution_count": null,
   "id": "fd080b9a",
   "metadata": {},
   "outputs": [],
   "source": [
    "%%timeit\n",
    "zombificationmatrix_dust @ zombificationmatrix_dust"
   ]
  },
  {
   "cell_type": "code",
   "execution_count": null,
   "id": "a6ff79e4",
   "metadata": {},
   "outputs": [],
   "source": [
    "A = np.array([ [1,2,3],\n",
    "                [2,4,6],\n",
    "                [3,4,0]])"
   ]
  },
  {
   "cell_type": "code",
   "execution_count": null,
   "id": "36ee5512",
   "metadata": {},
   "outputs": [],
   "source": [
    "\n",
    "print(A)\n",
    "A_norm_1 = LA.norm(A, axis=1, keepdims=True)\n",
    "A_norm_0 = LA.norm(A, axis=0, keepdims=True)\n",
    "print(A_norm_1**2)\n",
    "print(A_norm_0)\n",
    "print(((A @ A.T) / (A_norm_1**2))**2)\n",
    "\n"
   ]
  },
  {
   "cell_type": "code",
   "execution_count": null,
   "id": "97b2bc94",
   "metadata": {},
   "outputs": [],
   "source": [
    "A = np.array([ [1,0],\n",
    "                [1,1],\n",
    "                [1,2],\n",
    "                [0,2]])\n",
    "\n",
    "# LA.det(A)"
   ]
  },
  {
   "cell_type": "code",
   "execution_count": null,
   "id": "ba96f4bd",
   "metadata": {},
   "outputs": [],
   "source": [
    "origin = np.zeros_like(A.T)\n",
    "print(*origin)\n",
    "plt.quiver(*origin, A[:,0], A[:,1], scale=7)\n",
    "plt.show()\n"
   ]
  },
  {
   "cell_type": "code",
   "execution_count": null,
   "id": "ca0db5c4",
   "metadata": {},
   "outputs": [],
   "source": [
    "(A@A.T) "
   ]
  },
  {
   "cell_type": "code",
   "execution_count": null,
   "id": "288c9439",
   "metadata": {},
   "outputs": [],
   "source": [
    "LA.norm(A, axis=1, keepdims=True)@LA.norm(A, axis=0, keepdims=True)"
   ]
  },
  {
   "cell_type": "markdown",
   "id": "f766af5a",
   "metadata": {},
   "source": []
  }
 ],
 "metadata": {
  "kernelspec": {
   "display_name": "tensorflow_env",
   "language": "python",
   "name": "tensorflow_env"
  },
  "language_info": {
   "codemirror_mode": {
    "name": "ipython",
    "version": 3
   },
   "file_extension": ".py",
   "mimetype": "text/x-python",
   "name": "python",
   "nbconvert_exporter": "python",
   "pygments_lexer": "ipython3",
   "version": "3.12.7"
  }
 },
 "nbformat": 4,
 "nbformat_minor": 5
}
